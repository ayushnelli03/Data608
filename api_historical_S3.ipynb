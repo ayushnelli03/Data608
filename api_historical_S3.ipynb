{
 "cells": [
  {
   "cell_type": "code",
   "execution_count": null,
   "metadata": {},
   "outputs": [
    {
     "name": "stderr",
     "output_type": "stream",
     "text": [
      "/Users/ayush/Library/Python/3.9/lib/python/site-packages/urllib3/__init__.py:35: NotOpenSSLWarning: urllib3 v2 only supports OpenSSL 1.1.1+, currently the 'ssl' module is compiled with 'LibreSSL 2.8.3'. See: https://github.com/urllib3/urllib3/issues/3020\n",
      "  warnings.warn(\n"
     ]
    }
   ],
   "source": [
    "import requests\n",
    "import pandas as pd\n",
    "import boto3\n",
    "import datetime"
   ]
  },
  {
   "cell_type": "code",
   "execution_count": null,
   "metadata": {},
   "outputs": [],
   "source": [
    "date_today=datetime.date.today()\n",
    "date_minus_2 = date_today - datetime.timedelta(days=2)\n",
    "date = date_minus_2.strftime('%Y-%m-%d')  # Formats as \"YYYY-MM-DD\"\n",
    "start_date=\"2024-01-01\""
   ]
  },
  {
   "cell_type": "code",
   "execution_count": null,
   "metadata": {},
   "outputs": [],
   "source": [
    "urls = [\n",
    "    f'https://archive-api.open-meteo.com/v1/archive?latitude=51.0501&longitude=-114.0853&start_date={start_date}&end_date={date}&hourly=temperature_2m,relative_humidity_2m,dew_point_2m,precipitation,apparent_temperature,rain,snowfall,snow_depth,surface_pressure,cloud_cover,weather_code,wind_direction_10m,wind_speed_10m,is_day,sunshine_duration',\n",
    "    f'https://archive-api.open-meteo.com/v1/archive?latitude=49.2497&longitude=-123.1193&start_date={start_date}&end_date={date}&hourly=temperature_2m,relative_humidity_2m,dew_point_2m,precipitation,apparent_temperature,rain,snowfall,snow_depth,surface_pressure,cloud_cover,weather_code,wind_direction_10m,wind_speed_10m,is_day,sunshine_duration',\n",
    "    f'https://archive-api.open-meteo.com/v1/archive?latitude=43.7001&longitude=-79.4163&start_date={start_date}&end_date={date}&hourly=temperature_2m,relative_humidity_2m,dew_point_2m,precipitation,apparent_temperature,rain,snowfall,snow_depth,surface_pressure,cloud_cover,weather_code,wind_direction_10m,wind_speed_10m,is_day,sunshine_duration',\n",
    "    f'https://archive-api.open-meteo.com/v1/archive?latitude=45.5088&longitude=-73.5878&start_date={start_date}&end_date={date}&hourly=temperature_2m,relative_humidity_2m,dew_point_2m,precipitation,apparent_temperature,rain,snowfall,snow_depth,surface_pressure,cloud_cover,weather_code,wind_direction_10m,wind_speed_10m,is_day,sunshine_duration',\n",
    "    f'https://archive-api.open-meteo.com/v1/archive?latitude=53.5501&longitude=-113.4687&start_date={start_date}&end_date={date}&hourly=temperature_2m,relative_humidity_2m,dew_point_2m,precipitation,apparent_temperature,rain,snowfall,snow_depth,surface_pressure,cloud_cover,weather_code,wind_direction_10m,wind_speed_10m,is_day,sunshine_duration',\n",
    "    f'https://archive-api.open-meteo.com/v1/archive?latitude=45.4112&longitude=-75.6981&start_date={start_date}&end_date={date}&hourly=temperature_2m,relative_humidity_2m,dew_point_2m,precipitation,apparent_temperature,rain,snowfall,snow_depth,surface_pressure,cloud_cover,weather_code,wind_direction_10m,wind_speed_10m,is_day,sunshine_duration',\n",
    "    f'https://archive-api.open-meteo.com/v1/archive?latitude=49.8844&longitude=-97.147&start_date={start_date}&end_date={date}&hourly=temperature_2m,relative_humidity_2m,dew_point_2m,precipitation,apparent_temperature,rain,snowfall,snow_depth,surface_pressure,cloud_cover,weather_code,wind_direction_10m,wind_speed_10m,is_day,sunshine_duration',\n",
    "    f'https://archive-api.open-meteo.com/v1/archive?latitude=46.8123&longitude=-71.2145&start_date={start_date}&end_date={date}&hourly=temperature_2m,relative_humidity_2m,dew_point_2m,precipitation,apparent_temperature,rain,snowfall,snow_depth,surface_pressure,cloud_cover,weather_code,wind_direction_10m,wind_speed_10m,is_day,sunshine_duration',\n",
    "    f'https://archive-api.open-meteo.com/v1/archive?latitude=43.2501&longitude=-79.8496&start_date={start_date}&end_date={date}&hourly=temperature_2m,relative_humidity_2m,dew_point_2m,precipitation,apparent_temperature,rain,snowfall,snow_depth,surface_pressure,cloud_cover,weather_code,wind_direction_10m,wind_speed_10m,is_day,sunshine_duration',\n",
    "    f'https://archive-api.open-meteo.com/v1/archive?latitude=44.6464&longitude=-63.5729&start_date={start_date}&end_date={date}&hourly=temperature_2m,relative_humidity_2m,dew_point_2m,precipitation,apparent_temperature,rain,snowfall,snow_depth,surface_pressure,cloud_cover,weather_code,wind_direction_10m,wind_speed_10m,is_day,sunshine_duration'\n",
    "]"
   ]
  },
  {
   "cell_type": "code",
   "execution_count": 3,
   "metadata": {},
   "outputs": [],
   "source": [
    "city=['Calgary','Vancouver','Toronto','Montreal','Edmonton','Ottawa','Winnipeg','Quebec','Hamilton','Halifax']"
   ]
  },
  {
   "cell_type": "code",
   "execution_count": 4,
   "metadata": {},
   "outputs": [
    {
     "name": "stdout",
     "output_type": "stream",
     "text": [
      "Calgary Request returned 200 : 'OK'\n",
      "Vancouver Request returned 200 : 'OK'\n",
      "Toronto Request returned 200 : 'OK'\n",
      "Montreal Request returned 200 : 'OK'\n",
      "Edmonton Request returned 200 : 'OK'\n",
      "Ottawa Request returned 200 : 'OK'\n",
      "Winnipeg Request returned 200 : 'OK'\n",
      "Quebec Request returned 200 : 'OK'\n",
      "Hamilton Request returned 200 : 'OK'\n",
      "Halifax Request returned 200 : 'OK'\n"
     ]
    }
   ],
   "source": [
    "counter=0\n",
    "weather_data = []\n",
    "\n",
    "for url in urls:\n",
    "    response = requests.get(url)\n",
    "    print(f\"{city[counter]} Request returned {response.status_code} : '{response.reason}'\")\n",
    "    data = response.json()  # Parse `response.text` into JSON\n",
    "    hourly_data = data['hourly']\n",
    "\n",
    "# Loop through the hourly data and append the relevant details\n",
    "    for i in range(len(hourly_data['time'])):\n",
    "        details = {\n",
    "            'Location' : city[counter],\n",
    "            'time': hourly_data['time'][i],\n",
    "            'temp': hourly_data['temperature_2m'][i],\n",
    "            'precipitation': hourly_data['precipitation'][i],\n",
    "            'humidity': hourly_data['relative_humidity_2m'][i],\n",
    "            'dew_point': hourly_data['dew_point_2m'][i],\n",
    "            'apparent_temp': hourly_data['apparent_temperature'][i],\n",
    "            'rain': hourly_data['rain'][i],\n",
    "            'snowfall': hourly_data['snowfall'][i],\n",
    "            'snow_depth': hourly_data['snow_depth'][i],\n",
    "            'surface_pressure_info': hourly_data['surface_pressure'][i],\n",
    "            'cloud_cover': hourly_data['cloud_cover'][i],\n",
    "            'wind_speed': hourly_data['wind_speed_10m'][i],\n",
    "            'wind_direction': hourly_data['wind_direction_10m'][i],\n",
    "            'is_day_info': hourly_data['is_day'][i],\n",
    "            'sunshine_duration_info': hourly_data['sunshine_duration'][i],\n",
    "            'weather_code':hourly_data['weather_code'][i]\n",
    "        }\n",
    "        weather_data.append(details)\n",
    "    counter+=1"
   ]
  },
  {
   "cell_type": "code",
   "execution_count": 5,
   "metadata": {},
   "outputs": [],
   "source": [
    "df = pd.DataFrame(weather_data)    "
   ]
  },
  {
   "cell_type": "code",
   "execution_count": null,
   "metadata": {},
   "outputs": [],
   "source": [
    "df['snow_depth'] = df['snow_depth'].fillna(0)\n",
    "df['time'] = pd.to_datetime(df['time'])\n",
    "df['month'] = df['time'].dt.month\n",
    "df['year'] = df['time'].dt.year\n",
    "\n",
    "\n",
    "def get_season(month):\n",
    "    if month in [12, 1, 2]:\n",
    "        return 'Winter'\n",
    "    elif month in [3, 4, 5]:\n",
    "        return 'Spring'\n",
    "    elif month in [6, 7, 8]:\n",
    "        return 'Summer'\n",
    "    else:\n",
    "        return 'Fall'\n",
    "\n",
    "df['season'] = df['month'].apply(get_season)\n",
    "\n",
    "def classify_weather(weather_code):\n",
    "    if weather_code == 0:\n",
    "        return 'Sunny'  # Clear sky\n",
    "    elif weather_code in [1, 2, 3]:\n",
    "        return 'Cloudy'  # Mainly clear, partly cloudy, and overcast\n",
    "    elif weather_code in [51, 53, 55, 61, 63, 65, 80, 81, 82]:\n",
    "        return 'Rain'  # Drizzle, Rain showers, etc.\n",
    "    elif weather_code in [71, 73, 75, 77, 85, 86]:\n",
    "        return 'Snow'  # Snowfall, Snow showers\n",
    "    elif weather_code in [45, 48, 66, 67, 95, 96, 99]:\n",
    "        return 'Windy'  # Fog, Freezing Rain, Thunderstorm\n",
    "    else:\n",
    "        return 'Unknown'  # For any unknown codes\n",
    "\n",
    "# Apply the function to the 'weather_code' column\n",
    "df['weather_description'] = df['weather_code'].apply(classify_weather)"
   ]
  },
  {
   "cell_type": "code",
   "execution_count": null,
   "metadata": {},
   "outputs": [],
   "source": [
    "df.to_csv(\"weather_data.csv\", index=False)"
   ]
  },
  {
   "cell_type": "code",
   "execution_count": null,
   "metadata": {},
   "outputs": [],
   "source": [
    "# Set your S3 bucket name\n",
    "BUCKET_NAME = \"firstbucketdata608\" # what you names your bucket in aws\n",
    "FILE_PATH = \"weather_data.csv\"  # Change to your actual file path\n",
    "S3_KEY = \"weather_data.csv\"  # This is how the file will be named in S3\n",
    "\n",
    "# Initialize S3 client\n",
    "s3 = boto3.client('s3')\n",
    "\n",
    "try:\n",
    "    # Upload the file to S3\n",
    "    s3.upload_file(FILE_PATH, BUCKET_NAME, S3_KEY)\n",
    "    print(f\"File '{FILE_PATH}' successfully uploaded to 's3://{BUCKET_NAME}/{S3_KEY}'\")\n",
    "except Exception as e:\n",
    "    print(f\"Error uploading file: {e}\")"
   ]
  }
 ],
 "metadata": {
  "kernelspec": {
   "display_name": "Python 3",
   "language": "python",
   "name": "python3"
  },
  "language_info": {
   "codemirror_mode": {
    "name": "ipython",
    "version": 3
   },
   "file_extension": ".py",
   "mimetype": "text/x-python",
   "name": "python",
   "nbconvert_exporter": "python",
   "pygments_lexer": "ipython3",
   "version": "3.9.6"
  }
 },
 "nbformat": 4,
 "nbformat_minor": 2
}
